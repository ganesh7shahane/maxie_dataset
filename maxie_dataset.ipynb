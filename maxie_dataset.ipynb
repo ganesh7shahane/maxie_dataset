{
 "cells": [
  {
   "cell_type": "markdown",
   "metadata": {},
   "source": [
    "## GOAL: Build a simple classification model to predict \"no milk\" = 0 or \"some milk\" = 1"
   ]
  },
  {
   "cell_type": "markdown",
   "metadata": {},
   "source": [
    "## Importing the libraries and the dataset"
   ]
  },
  {
   "cell_type": "code",
   "execution_count": 1,
   "metadata": {},
   "outputs": [
    {
     "data": {
      "text/html": [
       "<div>\n",
       "<style scoped>\n",
       "    .dataframe tbody tr th:only-of-type {\n",
       "        vertical-align: middle;\n",
       "    }\n",
       "\n",
       "    .dataframe tbody tr th {\n",
       "        vertical-align: top;\n",
       "    }\n",
       "\n",
       "    .dataframe thead th {\n",
       "        text-align: right;\n",
       "    }\n",
       "</style>\n",
       "<table border=\"1\" class=\"dataframe\">\n",
       "  <thead>\n",
       "    <tr style=\"text-align: right;\">\n",
       "      <th></th>\n",
       "      <th>session_id</th>\n",
       "      <th>pump_id</th>\n",
       "      <th>bra</th>\n",
       "      <th>volume_ml</th>\n",
       "      <th>time_s</th>\n",
       "      <th>pitch_degrees</th>\n",
       "      <th>roll_degrees</th>\n",
       "      <th>ired_0</th>\n",
       "      <th>ired_1</th>\n",
       "      <th>ired_2</th>\n",
       "      <th>ired_0_calibrated</th>\n",
       "      <th>ired_1_calibrated</th>\n",
       "      <th>ired_2_calibrated</th>\n",
       "    </tr>\n",
       "  </thead>\n",
       "  <tbody>\n",
       "    <tr>\n",
       "      <th>0</th>\n",
       "      <td>0</td>\n",
       "      <td>1C69</td>\n",
       "      <td>pink</td>\n",
       "      <td>140</td>\n",
       "      <td>166.7</td>\n",
       "      <td>-4.4045</td>\n",
       "      <td>-5.0160</td>\n",
       "      <td>25519.0</td>\n",
       "      <td>16525.0</td>\n",
       "      <td>25519.0</td>\n",
       "      <td>3.1597</td>\n",
       "      <td>2.8335</td>\n",
       "      <td>3.1597</td>\n",
       "    </tr>\n",
       "    <tr>\n",
       "      <th>1</th>\n",
       "      <td>0</td>\n",
       "      <td>1C69</td>\n",
       "      <td>pink</td>\n",
       "      <td>140</td>\n",
       "      <td>166.8</td>\n",
       "      <td>-3.1014</td>\n",
       "      <td>-4.8337</td>\n",
       "      <td>25391.0</td>\n",
       "      <td>16556.0</td>\n",
       "      <td>25391.0</td>\n",
       "      <td>3.1485</td>\n",
       "      <td>2.8370</td>\n",
       "      <td>3.1485</td>\n",
       "    </tr>\n",
       "    <tr>\n",
       "      <th>2</th>\n",
       "      <td>0</td>\n",
       "      <td>1C69</td>\n",
       "      <td>pink</td>\n",
       "      <td>140</td>\n",
       "      <td>166.9</td>\n",
       "      <td>-1.2492</td>\n",
       "      <td>-5.1577</td>\n",
       "      <td>24700.0</td>\n",
       "      <td>17082.0</td>\n",
       "      <td>24700.0</td>\n",
       "      <td>3.0884</td>\n",
       "      <td>2.8957</td>\n",
       "      <td>3.0884</td>\n",
       "    </tr>\n",
       "    <tr>\n",
       "      <th>3</th>\n",
       "      <td>0</td>\n",
       "      <td>1C69</td>\n",
       "      <td>pink</td>\n",
       "      <td>140</td>\n",
       "      <td>167.0</td>\n",
       "      <td>0.1113</td>\n",
       "      <td>-4.7377</td>\n",
       "      <td>24459.0</td>\n",
       "      <td>17063.0</td>\n",
       "      <td>24459.0</td>\n",
       "      <td>3.0674</td>\n",
       "      <td>2.8935</td>\n",
       "      <td>3.0674</td>\n",
       "    </tr>\n",
       "    <tr>\n",
       "      <th>4</th>\n",
       "      <td>0</td>\n",
       "      <td>1C69</td>\n",
       "      <td>pink</td>\n",
       "      <td>140</td>\n",
       "      <td>167.1</td>\n",
       "      <td>3.4719</td>\n",
       "      <td>-4.7238</td>\n",
       "      <td>25317.0</td>\n",
       "      <td>17553.0</td>\n",
       "      <td>25317.0</td>\n",
       "      <td>3.1421</td>\n",
       "      <td>2.9482</td>\n",
       "      <td>3.1421</td>\n",
       "    </tr>\n",
       "    <tr>\n",
       "      <th>5</th>\n",
       "      <td>0</td>\n",
       "      <td>1C69</td>\n",
       "      <td>pink</td>\n",
       "      <td>140</td>\n",
       "      <td>167.2</td>\n",
       "      <td>3.9898</td>\n",
       "      <td>-4.7792</td>\n",
       "      <td>25146.0</td>\n",
       "      <td>18153.0</td>\n",
       "      <td>25146.0</td>\n",
       "      <td>3.1272</td>\n",
       "      <td>3.0152</td>\n",
       "      <td>3.1272</td>\n",
       "    </tr>\n",
       "    <tr>\n",
       "      <th>6</th>\n",
       "      <td>0</td>\n",
       "      <td>1C69</td>\n",
       "      <td>pink</td>\n",
       "      <td>140</td>\n",
       "      <td>167.3</td>\n",
       "      <td>6.5694</td>\n",
       "      <td>-4.7232</td>\n",
       "      <td>24480.0</td>\n",
       "      <td>18072.0</td>\n",
       "      <td>24480.0</td>\n",
       "      <td>3.0692</td>\n",
       "      <td>3.0062</td>\n",
       "      <td>3.0692</td>\n",
       "    </tr>\n",
       "    <tr>\n",
       "      <th>7</th>\n",
       "      <td>0</td>\n",
       "      <td>1C69</td>\n",
       "      <td>pink</td>\n",
       "      <td>140</td>\n",
       "      <td>167.4</td>\n",
       "      <td>7.8349</td>\n",
       "      <td>-4.9699</td>\n",
       "      <td>24400.0</td>\n",
       "      <td>18723.0</td>\n",
       "      <td>24400.0</td>\n",
       "      <td>3.0623</td>\n",
       "      <td>3.0789</td>\n",
       "      <td>3.0623</td>\n",
       "    </tr>\n",
       "    <tr>\n",
       "      <th>8</th>\n",
       "      <td>0</td>\n",
       "      <td>1C69</td>\n",
       "      <td>pink</td>\n",
       "      <td>140</td>\n",
       "      <td>167.5</td>\n",
       "      <td>9.2564</td>\n",
       "      <td>-4.7345</td>\n",
       "      <td>24408.0</td>\n",
       "      <td>19792.0</td>\n",
       "      <td>24408.0</td>\n",
       "      <td>3.0630</td>\n",
       "      <td>3.1984</td>\n",
       "      <td>3.0630</td>\n",
       "    </tr>\n",
       "    <tr>\n",
       "      <th>9</th>\n",
       "      <td>0</td>\n",
       "      <td>1C69</td>\n",
       "      <td>pink</td>\n",
       "      <td>140</td>\n",
       "      <td>167.6</td>\n",
       "      <td>10.7432</td>\n",
       "      <td>-4.7141</td>\n",
       "      <td>24572.0</td>\n",
       "      <td>21978.0</td>\n",
       "      <td>24572.0</td>\n",
       "      <td>3.0772</td>\n",
       "      <td>3.4430</td>\n",
       "      <td>3.0772</td>\n",
       "    </tr>\n",
       "  </tbody>\n",
       "</table>\n",
       "</div>"
      ],
      "text/plain": [
       "   session_id pump_id   bra  volume_ml  time_s  pitch_degrees  roll_degrees  \\\n",
       "0           0    1C69  pink        140   166.7        -4.4045       -5.0160   \n",
       "1           0    1C69  pink        140   166.8        -3.1014       -4.8337   \n",
       "2           0    1C69  pink        140   166.9        -1.2492       -5.1577   \n",
       "3           0    1C69  pink        140   167.0         0.1113       -4.7377   \n",
       "4           0    1C69  pink        140   167.1         3.4719       -4.7238   \n",
       "5           0    1C69  pink        140   167.2         3.9898       -4.7792   \n",
       "6           0    1C69  pink        140   167.3         6.5694       -4.7232   \n",
       "7           0    1C69  pink        140   167.4         7.8349       -4.9699   \n",
       "8           0    1C69  pink        140   167.5         9.2564       -4.7345   \n",
       "9           0    1C69  pink        140   167.6        10.7432       -4.7141   \n",
       "\n",
       "    ired_0   ired_1   ired_2  ired_0_calibrated  ired_1_calibrated  \\\n",
       "0  25519.0  16525.0  25519.0             3.1597             2.8335   \n",
       "1  25391.0  16556.0  25391.0             3.1485             2.8370   \n",
       "2  24700.0  17082.0  24700.0             3.0884             2.8957   \n",
       "3  24459.0  17063.0  24459.0             3.0674             2.8935   \n",
       "4  25317.0  17553.0  25317.0             3.1421             2.9482   \n",
       "5  25146.0  18153.0  25146.0             3.1272             3.0152   \n",
       "6  24480.0  18072.0  24480.0             3.0692             3.0062   \n",
       "7  24400.0  18723.0  24400.0             3.0623             3.0789   \n",
       "8  24408.0  19792.0  24408.0             3.0630             3.1984   \n",
       "9  24572.0  21978.0  24572.0             3.0772             3.4430   \n",
       "\n",
       "   ired_2_calibrated  \n",
       "0             3.1597  \n",
       "1             3.1485  \n",
       "2             3.0884  \n",
       "3             3.0674  \n",
       "4             3.1421  \n",
       "5             3.1272  \n",
       "6             3.0692  \n",
       "7             3.0623  \n",
       "8             3.0630  \n",
       "9             3.0772  "
      ]
     },
     "execution_count": 1,
     "metadata": {},
     "output_type": "execute_result"
    }
   ],
   "source": [
    "import pandas as pd\n",
    "import matplotlib.pyplot as plt\n",
    "import numpy as np\n",
    "\n",
    "\n",
    "elvie = pd.read_csv(\"maxie_data.csv\")\n",
    "elvie.head(10)\n"
   ]
  },
  {
   "cell_type": "markdown",
   "metadata": {},
   "source": [
    "## Some basic info on the dataset:"
   ]
  },
  {
   "cell_type": "code",
   "execution_count": 540,
   "metadata": {},
   "outputs": [
    {
     "name": "stdout",
     "output_type": "stream",
     "text": [
      "<class 'pandas.core.frame.DataFrame'>\n",
      "RangeIndex: 161712 entries, 0 to 161711\n",
      "Data columns (total 13 columns):\n",
      "session_id           161712 non-null int64\n",
      "pump_id              161712 non-null object\n",
      "bra                  161712 non-null object\n",
      "volume_ml            161712 non-null int64\n",
      "time_s               161712 non-null float64\n",
      "pitch_degrees        161712 non-null float64\n",
      "roll_degrees         161712 non-null float64\n",
      "ired_0               161712 non-null float64\n",
      "ired_1               161712 non-null float64\n",
      "ired_2               161712 non-null float64\n",
      "ired_0_calibrated    161712 non-null float64\n",
      "ired_1_calibrated    161712 non-null float64\n",
      "ired_2_calibrated    161712 non-null float64\n",
      "dtypes: float64(9), int64(2), object(2)\n",
      "memory usage: 16.0+ MB\n"
     ]
    }
   ],
   "source": [
    "elvie.info()\n",
    "\n",
    "#We have 2 object features: 'pump_id' and 'bra' that we'll need to work with in order to use them in the model. \n",
    "#The float64 and int64 can be used as it is"
   ]
  },
  {
   "cell_type": "markdown",
   "metadata": {},
   "source": [
    "## Visualizing the features and their distributions:"
   ]
  },
  {
   "cell_type": "code",
   "execution_count": 541,
   "metadata": {},
   "outputs": [
    {
     "data": {
      "text/plain": [
       "array([[<matplotlib.axes._subplots.AxesSubplot object at 0x1a2cfe0278>,\n",
       "        <matplotlib.axes._subplots.AxesSubplot object at 0x1a2cffd358>,\n",
       "        <matplotlib.axes._subplots.AxesSubplot object at 0x1a31db55c0>],\n",
       "       [<matplotlib.axes._subplots.AxesSubplot object at 0x1a31ddd828>,\n",
       "        <matplotlib.axes._subplots.AxesSubplot object at 0x1a3d867b38>,\n",
       "        <matplotlib.axes._subplots.AxesSubplot object at 0x1a3daf40f0>],\n",
       "       [<matplotlib.axes._subplots.AxesSubplot object at 0x1a3db19668>,\n",
       "        <matplotlib.axes._subplots.AxesSubplot object at 0x1a3dc3fc18>,\n",
       "        <matplotlib.axes._subplots.AxesSubplot object at 0x1a3dc3fc50>],\n",
       "       [<matplotlib.axes._subplots.AxesSubplot object at 0x1a3dc96710>,\n",
       "        <matplotlib.axes._subplots.AxesSubplot object at 0x1a3dcbdc88>,\n",
       "        <matplotlib.axes._subplots.AxesSubplot object at 0x1a3e1c7240>]],\n",
       "      dtype=object)"
      ]
     },
     "execution_count": 541,
     "metadata": {},
     "output_type": "execute_result"
    },
    {
     "data": {
      "image/png": "[encoded data removed]",
      "text/plain": [
       "<Figure size 1440x1080 with 12 Axes>"
      ]
     },
     "metadata": {
      "needs_background": "light"
     },
     "output_type": "display_data"
    }
   ],
   "source": [
    "elvie.hist(bins=20, figsize=(20,15))"
   ]
  },
  {
   "cell_type": "markdown",
   "metadata": {},
   "source": [
    "## Some basic stats on the dataset:"
   ]
  },
  {
   "cell_type": "code",
   "execution_count": 542,
   "metadata": {},
   "outputs": [
    {
     "name": "stdout",
     "output_type": "stream",
     "text": [
      "          session_id      volume_ml         time_s  pitch_degrees  \\\n",
      "count  161712.000000  161712.000000  161712.000000  161712.000000   \n",
      "mean       50.258552      53.521940     164.346914       2.980606   \n",
      "std        29.552921      47.878576      72.860427      30.320551   \n",
      "min         0.000000       0.000000       0.200000     -45.636900   \n",
      "25%        24.000000       0.000000     113.400000     -26.976250   \n",
      "50%        51.000000      40.000000     160.300000       3.208550   \n",
      "75%        76.000000     100.000000     208.400000      32.242875   \n",
      "max       100.000000     140.000000     526.200000      53.946800   \n",
      "\n",
      "        roll_degrees         ired_0         ired_1         ired_2  \\\n",
      "count  161712.000000  161712.000000  161712.000000  161712.000000   \n",
      "mean       -3.123444   10206.462322    7720.855886   10206.462322   \n",
      "std        24.719071    6952.113091    5376.089437    6952.113091   \n",
      "min       -60.279000    1332.000000     601.000000    1332.000000   \n",
      "25%       -24.099975    5877.000000    4237.000000    5877.000000   \n",
      "50%        -2.134800    8180.000000    6157.000000    8180.000000   \n",
      "75%        18.354225   11275.000000    9438.000000   11275.000000   \n",
      "max        43.094400   61400.000000   40313.000000   61400.000000   \n",
      "\n",
      "       ired_0_calibrated  ired_1_calibrated  ired_2_calibrated  \n",
      "count      161712.000000      161712.000000      161712.000000  \n",
      "mean            1.784416           1.735969           1.784416  \n",
      "std             0.579263           0.496990           0.579263  \n",
      "min             1.060600           1.045700           1.060600  \n",
      "25%             1.435100           1.425200           1.435100  \n",
      "50%             1.625800           1.607100           1.625800  \n",
      "75%             1.883500           1.870425           1.883500  \n",
      "max             6.279200           4.386100           6.279200  \n",
      "[3.1597 3.1485 3.0884 ... 1.8484 1.8478 1.8605]\n"
     ]
    }
   ],
   "source": [
    "#elvie.info() #there are no missing values in any of the features\n",
    "\n",
    "print(elvie.describe())\n",
    "\n",
    "print(elvie['ired_0_calibrated'].unique())"
   ]
  },
  {
   "cell_type": "markdown",
   "metadata": {},
   "source": [
    "### Correlations between volume and other features:\n",
    "\n",
    "The ired values are strongly linearly correlated with volume_ml"
   ]
  },
  {
   "cell_type": "code",
   "execution_count": 543,
   "metadata": {},
   "outputs": [
    {
     "data": {
      "text/plain": [
       "volume_ml            1.000000\n",
       "ired_1_calibrated    0.805543\n",
       "ired_2_calibrated    0.793440\n",
       "ired_0_calibrated    0.793440\n",
       "ired_2               0.792688\n",
       "ired_0               0.792688\n",
       "ired_1               0.792265\n",
       "pitch_degrees        0.022910\n",
       "roll_degrees         0.006135\n",
       "time_s              -0.137882\n",
       "session_id          -0.432401\n",
       "Name: volume_ml, dtype: float64"
      ]
     },
     "execution_count": 543,
     "metadata": {},
     "output_type": "execute_result"
    }
   ],
   "source": [
    "corr_matrix = elvie.corr()\n",
    "\n",
    "corr_matrix[\"volume_ml\"].sort_values(ascending=False)\n",
    "\n",
    "#corr_matrix[\"zero_count\"].sort_values(ascending=False)"
   ]
  },
  {
   "cell_type": "markdown",
   "metadata": {},
   "source": [
    "### Checking distribution of some of our main and target features:\n",
    "\n",
    "We create a new column called 'zero_count', which has a value '0' if the corresponding volume_ml = 0 and value '1' if the volume_ml > 0\n",
    "\n",
    "### no milk = 0\n",
    "### some milk = 1"
   ]
  },
  {
   "cell_type": "code",
   "execution_count": 544,
   "metadata": {},
   "outputs": [
    {
     "data": {
      "text/plain": [
       "<matplotlib.axes._subplots.AxesSubplot at 0x1a424c9f60>"
      ]
     },
     "execution_count": 544,
     "metadata": {},
     "output_type": "execute_result"
    },
    {
     "data": {
      "image/png": "[encoded data removed]",
      "text/plain": [
       "<Figure size 432x288 with 1 Axes>"
      ]
     },
     "metadata": {
      "needs_background": "light"
     },
     "output_type": "display_data"
    }
   ],
   "source": [
    "#Create a new column called 'zero_count'\n",
    "elvie['zero_count'] = np.where(elvie['volume_ml']==0,0,1)\n",
    "\n",
    "elvie['zero_count'].hist(bins=20)\n",
    "#The histogram shows that the instances where volume_ml=0 are ~41K and where volume_ml>0 are ~120K\n",
    "\n",
    "#sns.countplot(x='zero_count', data=elvie, palette='hls')"
   ]
  },
  {
   "cell_type": "markdown",
   "metadata": {},
   "source": [
    "###  As seen above, there's an under representation of \"no milk\" instances.\n",
    "\n",
    "Later on, we will over sample the \"no milk\" instances using SMOTE algorithm"
   ]
  },
  {
   "cell_type": "markdown",
   "metadata": {},
   "source": [
    "### Checking distribution of values in some of the features:"
   ]
  },
  {
   "cell_type": "code",
   "execution_count": 545,
   "metadata": {},
   "outputs": [
    {
     "name": "stdout",
     "output_type": "stream",
     "text": [
      "black    0.250643\n",
      "red      0.204790\n",
      "white    0.196108\n",
      "green    0.187667\n",
      "pink     0.160792\n",
      "Name: bra, dtype: float64\n",
      "FB9B    0.226903\n",
      "2BE2    0.212705\n",
      "1C69    0.202650\n",
      "5DEA    0.183926\n",
      "60EF    0.173815\n",
      "Name: pump_id, dtype: float64\n",
      "0      0.255454\n",
      "140    0.098539\n",
      "60     0.079419\n",
      "40     0.070421\n",
      "30     0.068993\n",
      "20     0.068474\n",
      "100    0.067119\n",
      "70     0.057089\n",
      "90     0.050726\n",
      "110    0.049396\n",
      "10     0.048438\n",
      "50     0.038661\n",
      "130    0.028328\n",
      "120    0.009566\n",
      "80     0.009375\n",
      "Name: volume_ml, dtype: float64\n",
      "22949\n",
      "1    0.744546\n",
      "0    0.255454\n",
      "Name: zero_count, dtype: float64\n"
     ]
    }
   ],
   "source": [
    "print(elvie['bra'].value_counts(normalize=True)) #shows counts of each value of the attribute\n",
    "print(elvie['pump_id'].value_counts(normalize=True)) \n",
    "print(elvie['volume_ml'].value_counts(normalize=True))\n",
    "print(elvie['ired_0_calibrated'].value_counts(normalize=True).count())\n",
    "\n",
    "#zero_count will be our target label\n",
    "print(elvie['zero_count'].value_counts(normalize=True)) #~25.5% of all instances have volume_ml=0"
   ]
  },
  {
   "cell_type": "markdown",
   "metadata": {},
   "source": [
    "## Some more data exploration based on volume_ml = 0 or 1"
   ]
  },
  {
   "cell_type": "code",
   "execution_count": 546,
   "metadata": {},
   "outputs": [
    {
     "data": {
      "text/html": [
       "<div>\n",
       "<style scoped>\n",
       "    .dataframe tbody tr th:only-of-type {\n",
       "        vertical-align: middle;\n",
       "    }\n",
       "\n",
       "    .dataframe tbody tr th {\n",
       "        vertical-align: top;\n",
       "    }\n",
       "\n",
       "    .dataframe thead th {\n",
       "        text-align: right;\n",
       "    }\n",
       "</style>\n",
       "<table border=\"1\" class=\"dataframe\">\n",
       "  <thead>\n",
       "    <tr style=\"text-align: right;\">\n",
       "      <th></th>\n",
       "      <th>session_id</th>\n",
       "      <th>volume_ml</th>\n",
       "      <th>time_s</th>\n",
       "      <th>pitch_degrees</th>\n",
       "      <th>roll_degrees</th>\n",
       "      <th>ired_0</th>\n",
       "      <th>ired_1</th>\n",
       "      <th>ired_2</th>\n",
       "      <th>ired_0_calibrated</th>\n",
       "      <th>ired_1_calibrated</th>\n",
       "      <th>ired_2_calibrated</th>\n",
       "    </tr>\n",
       "    <tr>\n",
       "      <th>zero_count</th>\n",
       "      <th></th>\n",
       "      <th></th>\n",
       "      <th></th>\n",
       "      <th></th>\n",
       "      <th></th>\n",
       "      <th></th>\n",
       "      <th></th>\n",
       "      <th></th>\n",
       "      <th></th>\n",
       "      <th></th>\n",
       "      <th></th>\n",
       "    </tr>\n",
       "  </thead>\n",
       "  <tbody>\n",
       "    <tr>\n",
       "      <th>0</th>\n",
       "      <td>80.347688</td>\n",
       "      <td>0.000000</td>\n",
       "      <td>173.913234</td>\n",
       "      <td>2.030555</td>\n",
       "      <td>-2.554818</td>\n",
       "      <td>6654.202881</td>\n",
       "      <td>4960.524328</td>\n",
       "      <td>6654.202881</td>\n",
       "      <td>1.489493</td>\n",
       "      <td>1.482563</td>\n",
       "      <td>1.489493</td>\n",
       "    </tr>\n",
       "    <tr>\n",
       "      <th>1</th>\n",
       "      <td>39.934951</td>\n",
       "      <td>71.885351</td>\n",
       "      <td>161.064704</td>\n",
       "      <td>3.306569</td>\n",
       "      <td>-3.318539</td>\n",
       "      <td>11425.244714</td>\n",
       "      <td>8667.927335</td>\n",
       "      <td>11425.244714</td>\n",
       "      <td>1.885605</td>\n",
       "      <td>1.822913</td>\n",
       "      <td>1.885605</td>\n",
       "    </tr>\n",
       "  </tbody>\n",
       "</table>\n",
       "</div>"
      ],
      "text/plain": [
       "            session_id  volume_ml      time_s  pitch_degrees  roll_degrees  \\\n",
       "zero_count                                                                   \n",
       "0            80.347688   0.000000  173.913234       2.030555     -2.554818   \n",
       "1            39.934951  71.885351  161.064704       3.306569     -3.318539   \n",
       "\n",
       "                  ired_0       ired_1        ired_2  ired_0_calibrated  \\\n",
       "zero_count                                                               \n",
       "0            6654.202881  4960.524328   6654.202881           1.489493   \n",
       "1           11425.244714  8667.927335  11425.244714           1.885605   \n",
       "\n",
       "            ired_1_calibrated  ired_2_calibrated  \n",
       "zero_count                                        \n",
       "0                    1.482563           1.489493  \n",
       "1                    1.822913           1.885605  "
      ]
     },
     "execution_count": 546,
     "metadata": {},
     "output_type": "execute_result"
    }
   ],
   "source": [
    "elvie.groupby('zero_count').mean()"
   ]
  },
  {
   "cell_type": "markdown",
   "metadata": {},
   "source": [
    "### Some Observations:\n",
    "\n",
    "1. As seen above, the means of ired 0,1 2 and their calibrated readings seem to be good predictors of \"no milk\" or \"some milk\"  \n",
    "\n",
    "\n",
    "2. The pitch and roll degrees also seem to affect \"no milk\" or \"some milk\" only to a smaller extent\n",
    "\n",
    "\n",
    "### We can calculate categorical means for categorical variables such as the bra colour:"
   ]
  },
  {
   "cell_type": "code",
   "execution_count": 547,
   "metadata": {},
   "outputs": [
    {
     "data": {
      "text/html": [
       "<div>\n",
       "<style scoped>\n",
       "    .dataframe tbody tr th:only-of-type {\n",
       "        vertical-align: middle;\n",
       "    }\n",
       "\n",
       "    .dataframe tbody tr th {\n",
       "        vertical-align: top;\n",
       "    }\n",
       "\n",
       "    .dataframe thead th {\n",
       "        text-align: right;\n",
       "    }\n",
       "</style>\n",
       "<table border=\"1\" class=\"dataframe\">\n",
       "  <thead>\n",
       "    <tr style=\"text-align: right;\">\n",
       "      <th></th>\n",
       "      <th>session_id</th>\n",
       "      <th>volume_ml</th>\n",
       "      <th>time_s</th>\n",
       "      <th>pitch_degrees</th>\n",
       "      <th>roll_degrees</th>\n",
       "      <th>ired_0</th>\n",
       "      <th>ired_1</th>\n",
       "      <th>ired_2</th>\n",
       "      <th>ired_0_calibrated</th>\n",
       "      <th>ired_1_calibrated</th>\n",
       "      <th>ired_2_calibrated</th>\n",
       "      <th>zero_count</th>\n",
       "    </tr>\n",
       "    <tr>\n",
       "      <th>bra</th>\n",
       "      <th></th>\n",
       "      <th></th>\n",
       "      <th></th>\n",
       "      <th></th>\n",
       "      <th></th>\n",
       "      <th></th>\n",
       "      <th></th>\n",
       "      <th></th>\n",
       "      <th></th>\n",
       "      <th></th>\n",
       "      <th></th>\n",
       "      <th></th>\n",
       "    </tr>\n",
       "  </thead>\n",
       "  <tbody>\n",
       "    <tr>\n",
       "      <th>black</th>\n",
       "      <td>47.463116</td>\n",
       "      <td>54.363466</td>\n",
       "      <td>148.250138</td>\n",
       "      <td>4.357400</td>\n",
       "      <td>-2.781008</td>\n",
       "      <td>7352.331442</td>\n",
       "      <td>5328.823201</td>\n",
       "      <td>7352.331442</td>\n",
       "      <td>1.550182</td>\n",
       "      <td>1.520660</td>\n",
       "      <td>1.550182</td>\n",
       "      <td>0.810767</td>\n",
       "    </tr>\n",
       "    <tr>\n",
       "      <th>green</th>\n",
       "      <td>58.406946</td>\n",
       "      <td>54.369316</td>\n",
       "      <td>148.559754</td>\n",
       "      <td>3.749414</td>\n",
       "      <td>-2.530234</td>\n",
       "      <td>9021.736193</td>\n",
       "      <td>7184.230032</td>\n",
       "      <td>9021.736193</td>\n",
       "      <td>1.671832</td>\n",
       "      <td>1.655252</td>\n",
       "      <td>1.671832</td>\n",
       "      <td>0.728186</td>\n",
       "    </tr>\n",
       "    <tr>\n",
       "      <th>pink</th>\n",
       "      <td>49.630644</td>\n",
       "      <td>58.124375</td>\n",
       "      <td>175.724014</td>\n",
       "      <td>1.956804</td>\n",
       "      <td>-4.005297</td>\n",
       "      <td>12667.815053</td>\n",
       "      <td>9263.498116</td>\n",
       "      <td>12667.815053</td>\n",
       "      <td>2.019671</td>\n",
       "      <td>1.929998</td>\n",
       "      <td>2.019671</td>\n",
       "      <td>0.705446</td>\n",
       "    </tr>\n",
       "    <tr>\n",
       "      <th>red</th>\n",
       "      <td>56.601534</td>\n",
       "      <td>51.513724</td>\n",
       "      <td>184.675608</td>\n",
       "      <td>1.551683</td>\n",
       "      <td>-2.469955</td>\n",
       "      <td>11019.754899</td>\n",
       "      <td>8238.989794</td>\n",
       "      <td>11019.754899</td>\n",
       "      <td>1.840573</td>\n",
       "      <td>1.782065</td>\n",
       "      <td>1.840573</td>\n",
       "      <td>0.701996</td>\n",
       "    </tr>\n",
       "    <tr>\n",
       "      <th>white</th>\n",
       "      <td>39.924731</td>\n",
       "      <td>49.959007</td>\n",
       "      <td>169.470700</td>\n",
       "      <td>2.816840</td>\n",
       "      <td>-4.088159</td>\n",
       "      <td>12120.623624</td>\n",
       "      <td>9485.702046</td>\n",
       "      <td>12120.623624</td>\n",
       "      <td>1.939995</td>\n",
       "      <td>1.881171</td>\n",
       "      <td>1.939995</td>\n",
       "      <td>0.752058</td>\n",
       "    </tr>\n",
       "  </tbody>\n",
       "</table>\n",
       "</div>"
      ],
      "text/plain": [
       "       session_id  volume_ml      time_s  pitch_degrees  roll_degrees  \\\n",
       "bra                                                                     \n",
       "black   47.463116  54.363466  148.250138       4.357400     -2.781008   \n",
       "green   58.406946  54.369316  148.559754       3.749414     -2.530234   \n",
       "pink    49.630644  58.124375  175.724014       1.956804     -4.005297   \n",
       "red     56.601534  51.513724  184.675608       1.551683     -2.469955   \n",
       "white   39.924731  49.959007  169.470700       2.816840     -4.088159   \n",
       "\n",
       "             ired_0       ired_1        ired_2  ired_0_calibrated  \\\n",
       "bra                                                                 \n",
       "black   7352.331442  5328.823201   7352.331442           1.550182   \n",
       "green   9021.736193  7184.230032   9021.736193           1.671832   \n",
       "pink   12667.815053  9263.498116  12667.815053           2.019671   \n",
       "red    11019.754899  8238.989794  11019.754899           1.840573   \n",
       "white  12120.623624  9485.702046  12120.623624           1.939995   \n",
       "\n",
       "       ired_1_calibrated  ired_2_calibrated  zero_count  \n",
       "bra                                                      \n",
       "black           1.520660           1.550182    0.810767  \n",
       "green           1.655252           1.671832    0.728186  \n",
       "pink            1.929998           2.019671    0.705446  \n",
       "red             1.782065           1.840573    0.701996  \n",
       "white           1.881171           1.939995    0.752058  "
      ]
     },
     "execution_count": 547,
     "metadata": {},
     "output_type": "execute_result"
    }
   ],
   "source": [
    "elvie.groupby('bra').mean()"
   ]
  },
  {
   "cell_type": "markdown",
   "metadata": {},
   "source": [
    "### Some visualization of the above table"
   ]
  },
  {
   "cell_type": "code",
   "execution_count": 548,
   "metadata": {},
   "outputs": [
    {
     "data": {
      "text/plain": [
       "Text(0, 0.5, 'Frequency')"
      ]
     },
     "execution_count": 548,
     "metadata": {},
     "output_type": "execute_result"
    },
    {
     "data": {
      "image/png": "[encoded data removed]",
      "text/plain": [
       "<Figure size 432x288 with 1 Axes>"
      ]
     },
     "metadata": {
      "needs_background": "light"
     },
     "output_type": "display_data"
    }
   ],
   "source": [
    "pd.crosstab(elvie.bra, elvie.zero_count).plot(kind='bar')\n",
    "plt.title('Effect of bra colour')\n",
    "plt.ylabel('Frequency')"
   ]
  },
  {
   "cell_type": "markdown",
   "metadata": {},
   "source": [
    "### As seen above, it seems that the bra colour affects the volume readings. Having a black bra is much more likely to report presence of having some milk in the bottle"
   ]
  },
  {
   "cell_type": "code",
   "execution_count": 549,
   "metadata": {},
   "outputs": [
    {
     "data": {
      "text/html": [
       "<div>\n",
       "<style scoped>\n",
       "    .dataframe tbody tr th:only-of-type {\n",
       "        vertical-align: middle;\n",
       "    }\n",
       "\n",
       "    .dataframe tbody tr th {\n",
       "        vertical-align: top;\n",
       "    }\n",
       "\n",
       "    .dataframe thead th {\n",
       "        text-align: right;\n",
       "    }\n",
       "</style>\n",
       "<table border=\"1\" class=\"dataframe\">\n",
       "  <thead>\n",
       "    <tr style=\"text-align: right;\">\n",
       "      <th></th>\n",
       "      <th>session_id</th>\n",
       "      <th>volume_ml</th>\n",
       "      <th>time_s</th>\n",
       "      <th>pitch_degrees</th>\n",
       "      <th>roll_degrees</th>\n",
       "      <th>ired_0</th>\n",
       "      <th>ired_1</th>\n",
       "      <th>ired_2</th>\n",
       "      <th>ired_0_calibrated</th>\n",
       "      <th>ired_1_calibrated</th>\n",
       "      <th>ired_2_calibrated</th>\n",
       "      <th>zero_count</th>\n",
       "    </tr>\n",
       "    <tr>\n",
       "      <th>pump_id</th>\n",
       "      <th></th>\n",
       "      <th></th>\n",
       "      <th></th>\n",
       "      <th></th>\n",
       "      <th></th>\n",
       "      <th></th>\n",
       "      <th></th>\n",
       "      <th></th>\n",
       "      <th></th>\n",
       "      <th></th>\n",
       "      <th></th>\n",
       "      <th></th>\n",
       "    </tr>\n",
       "  </thead>\n",
       "  <tbody>\n",
       "    <tr>\n",
       "      <th>1C69</th>\n",
       "      <td>50.132099</td>\n",
       "      <td>55.843886</td>\n",
       "      <td>196.661820</td>\n",
       "      <td>3.340698</td>\n",
       "      <td>-0.836940</td>\n",
       "      <td>11071.747002</td>\n",
       "      <td>7566.141344</td>\n",
       "      <td>11071.747002</td>\n",
       "      <td>1.900303</td>\n",
       "      <td>1.843544</td>\n",
       "      <td>1.900303</td>\n",
       "      <td>0.699826</td>\n",
       "    </tr>\n",
       "    <tr>\n",
       "      <th>2BE2</th>\n",
       "      <td>44.770620</td>\n",
       "      <td>57.312266</td>\n",
       "      <td>153.461796</td>\n",
       "      <td>3.391495</td>\n",
       "      <td>-4.207902</td>\n",
       "      <td>10689.636916</td>\n",
       "      <td>7791.865424</td>\n",
       "      <td>10689.636916</td>\n",
       "      <td>1.741114</td>\n",
       "      <td>1.691467</td>\n",
       "      <td>1.741114</td>\n",
       "      <td>0.769660</td>\n",
       "    </tr>\n",
       "    <tr>\n",
       "      <th>5DEA</th>\n",
       "      <td>56.828094</td>\n",
       "      <td>51.593316</td>\n",
       "      <td>147.358531</td>\n",
       "      <td>4.254708</td>\n",
       "      <td>-5.525798</td>\n",
       "      <td>8148.220354</td>\n",
       "      <td>6366.204182</td>\n",
       "      <td>8148.220354</td>\n",
       "      <td>1.689538</td>\n",
       "      <td>1.673726</td>\n",
       "      <td>1.689538</td>\n",
       "      <td>0.739468</td>\n",
       "    </tr>\n",
       "    <tr>\n",
       "      <th>60EF</th>\n",
       "      <td>46.224598</td>\n",
       "      <td>45.335136</td>\n",
       "      <td>176.927270</td>\n",
       "      <td>-0.798701</td>\n",
       "      <td>-1.883085</td>\n",
       "      <td>9301.894585</td>\n",
       "      <td>6512.776256</td>\n",
       "      <td>9301.894585</td>\n",
       "      <td>1.737371</td>\n",
       "      <td>1.657445</td>\n",
       "      <td>1.737371</td>\n",
       "      <td>0.727266</td>\n",
       "    </tr>\n",
       "    <tr>\n",
       "      <th>FB9B</th>\n",
       "      <td>53.280953</td>\n",
       "      <td>55.729703</td>\n",
       "      <td>149.823721</td>\n",
       "      <td>4.136117</td>\n",
       "      <td>-3.151779</td>\n",
       "      <td>11342.043496</td>\n",
       "      <td>9815.962391</td>\n",
       "      <td>11342.043496</td>\n",
       "      <td>1.834456</td>\n",
       "      <td>1.792215</td>\n",
       "      <td>1.834456</td>\n",
       "      <td>0.778296</td>\n",
       "    </tr>\n",
       "  </tbody>\n",
       "</table>\n",
       "</div>"
      ],
      "text/plain": [
       "         session_id  volume_ml      time_s  pitch_degrees  roll_degrees  \\\n",
       "pump_id                                                                   \n",
       "1C69      50.132099  55.843886  196.661820       3.340698     -0.836940   \n",
       "2BE2      44.770620  57.312266  153.461796       3.391495     -4.207902   \n",
       "5DEA      56.828094  51.593316  147.358531       4.254708     -5.525798   \n",
       "60EF      46.224598  45.335136  176.927270      -0.798701     -1.883085   \n",
       "FB9B      53.280953  55.729703  149.823721       4.136117     -3.151779   \n",
       "\n",
       "               ired_0       ired_1        ired_2  ired_0_calibrated  \\\n",
       "pump_id                                                               \n",
       "1C69     11071.747002  7566.141344  11071.747002           1.900303   \n",
       "2BE2     10689.636916  7791.865424  10689.636916           1.741114   \n",
       "5DEA      8148.220354  6366.204182   8148.220354           1.689538   \n",
       "60EF      9301.894585  6512.776256   9301.894585           1.737371   \n",
       "FB9B     11342.043496  9815.962391  11342.043496           1.834456   \n",
       "\n",
       "         ired_1_calibrated  ired_2_calibrated  zero_count  \n",
       "pump_id                                                    \n",
       "1C69              1.843544           1.900303    0.699826  \n",
       "2BE2              1.691467           1.741114    0.769660  \n",
       "5DEA              1.673726           1.689538    0.739468  \n",
       "60EF              1.657445           1.737371    0.727266  \n",
       "FB9B              1.792215           1.834456    0.778296  "
      ]
     },
     "execution_count": 549,
     "metadata": {},
     "output_type": "execute_result"
    }
   ],
   "source": [
    "elvie.groupby('pump_id').mean()"
   ]
  },
  {
   "cell_type": "markdown",
   "metadata": {},
   "source": [
    "All pumps seem to behave similarly:"
   ]
  },
  {
   "cell_type": "code",
   "execution_count": 550,
   "metadata": {},
   "outputs": [
    {
     "data": {
      "text/plain": [
       "Text(0, 0.5, 'Frequency')"
      ]
     },
     "execution_count": 550,
     "metadata": {},
     "output_type": "execute_result"
    },
    {
     "data": {
      "image/png": "[encoded data removed]",
      "text/plain": [
       "<Figure size 432x288 with 1 Axes>"
      ]
     },
     "metadata": {
      "needs_background": "light"
     },
     "output_type": "display_data"
    }
   ],
   "source": [
    "pd.crosstab(elvie.pump_id, elvie.zero_count).plot(kind='bar')\n",
    "plt.title('Pump_IDs and their share of milk')\n",
    "plt.ylabel('Frequency')"
   ]
  },
  {
   "cell_type": "markdown",
   "metadata": {},
   "source": [
    "## Handling the categorical attribute \"bra\" with Pandas's get_dummies():"
   ]
  },
  {
   "cell_type": "code",
   "execution_count": 551,
   "metadata": {},
   "outputs": [
    {
     "data": {
      "text/html": [
       "<div>\n",
       "<style scoped>\n",
       "    .dataframe tbody tr th:only-of-type {\n",
       "        vertical-align: middle;\n",
       "    }\n",
       "\n",
       "    .dataframe tbody tr th {\n",
       "        vertical-align: top;\n",
       "    }\n",
       "\n",
       "    .dataframe thead th {\n",
       "        text-align: right;\n",
       "    }\n",
       "</style>\n",
       "<table border=\"1\" class=\"dataframe\">\n",
       "  <thead>\n",
       "    <tr style=\"text-align: right;\">\n",
       "      <th></th>\n",
       "      <th>session_id</th>\n",
       "      <th>pump_id</th>\n",
       "      <th>bra</th>\n",
       "      <th>volume_ml</th>\n",
       "      <th>time_s</th>\n",
       "      <th>pitch_degrees</th>\n",
       "      <th>roll_degrees</th>\n",
       "      <th>ired_0</th>\n",
       "      <th>ired_1</th>\n",
       "      <th>ired_2</th>\n",
       "      <th>ired_0_calibrated</th>\n",
       "      <th>ired_1_calibrated</th>\n",
       "      <th>ired_2_calibrated</th>\n",
       "      <th>zero_count</th>\n",
       "      <th>black</th>\n",
       "      <th>green</th>\n",
       "      <th>pink</th>\n",
       "      <th>red</th>\n",
       "      <th>white</th>\n",
       "    </tr>\n",
       "  </thead>\n",
       "  <tbody>\n",
       "    <tr>\n",
       "      <th>0</th>\n",
       "      <td>0</td>\n",
       "      <td>1C69</td>\n",
       "      <td>pink</td>\n",
       "      <td>140</td>\n",
       "      <td>166.7</td>\n",
       "      <td>-4.4045</td>\n",
       "      <td>-5.0160</td>\n",
       "      <td>25519.0</td>\n",
       "      <td>16525.0</td>\n",
       "      <td>25519.0</td>\n",
       "      <td>3.1597</td>\n",
       "      <td>2.8335</td>\n",
       "      <td>3.1597</td>\n",
       "      <td>1</td>\n",
       "      <td>0</td>\n",
       "      <td>0</td>\n",
       "      <td>1</td>\n",
       "      <td>0</td>\n",
       "      <td>0</td>\n",
       "    </tr>\n",
       "    <tr>\n",
       "      <th>1</th>\n",
       "      <td>0</td>\n",
       "      <td>1C69</td>\n",
       "      <td>pink</td>\n",
       "      <td>140</td>\n",
       "      <td>166.8</td>\n",
       "      <td>-3.1014</td>\n",
       "      <td>-4.8337</td>\n",
       "      <td>25391.0</td>\n",
       "      <td>16556.0</td>\n",
       "      <td>25391.0</td>\n",
       "      <td>3.1485</td>\n",
       "      <td>2.8370</td>\n",
       "      <td>3.1485</td>\n",
       "      <td>1</td>\n",
       "      <td>0</td>\n",
       "      <td>0</td>\n",
       "      <td>1</td>\n",
       "      <td>0</td>\n",
       "      <td>0</td>\n",
       "    </tr>\n",
       "    <tr>\n",
       "      <th>2</th>\n",
       "      <td>0</td>\n",
       "      <td>1C69</td>\n",
       "      <td>pink</td>\n",
       "      <td>140</td>\n",
       "      <td>166.9</td>\n",
       "      <td>-1.2492</td>\n",
       "      <td>-5.1577</td>\n",
       "      <td>24700.0</td>\n",
       "      <td>17082.0</td>\n",
       "      <td>24700.0</td>\n",
       "      <td>3.0884</td>\n",
       "      <td>2.8957</td>\n",
       "      <td>3.0884</td>\n",
       "      <td>1</td>\n",
       "      <td>0</td>\n",
       "      <td>0</td>\n",
       "      <td>1</td>\n",
       "      <td>0</td>\n",
       "      <td>0</td>\n",
       "    </tr>\n",
       "    <tr>\n",
       "      <th>3</th>\n",
       "      <td>0</td>\n",
       "      <td>1C69</td>\n",
       "      <td>pink</td>\n",
       "      <td>140</td>\n",
       "      <td>167.0</td>\n",
       "      <td>0.1113</td>\n",
       "      <td>-4.7377</td>\n",
       "      <td>24459.0</td>\n",
       "      <td>17063.0</td>\n",
       "      <td>24459.0</td>\n",
       "      <td>3.0674</td>\n",
       "      <td>2.8935</td>\n",
       "      <td>3.0674</td>\n",
       "      <td>1</td>\n",
       "      <td>0</td>\n",
       "      <td>0</td>\n",
       "      <td>1</td>\n",
       "      <td>0</td>\n",
       "      <td>0</td>\n",
       "    </tr>\n",
       "    <tr>\n",
       "      <th>4</th>\n",
       "      <td>0</td>\n",
       "      <td>1C69</td>\n",
       "      <td>pink</td>\n",
       "      <td>140</td>\n",
       "      <td>167.1</td>\n",
       "      <td>3.4719</td>\n",
       "      <td>-4.7238</td>\n",
       "      <td>25317.0</td>\n",
       "      <td>17553.0</td>\n",
       "      <td>25317.0</td>\n",
       "      <td>3.1421</td>\n",
       "      <td>2.9482</td>\n",
       "      <td>3.1421</td>\n",
       "      <td>1</td>\n",
       "      <td>0</td>\n",
       "      <td>0</td>\n",
       "      <td>1</td>\n",
       "      <td>0</td>\n",
       "      <td>0</td>\n",
       "    </tr>\n",
       "  </tbody>\n",
       "</table>\n",
       "</div>"
      ],
      "text/plain": [
       "   session_id pump_id   bra  volume_ml  time_s  pitch_degrees  roll_degrees  \\\n",
       "0           0    1C69  pink        140   166.7        -4.4045       -5.0160   \n",
       "1           0    1C69  pink        140   166.8        -3.1014       -4.8337   \n",
       "2           0    1C69  pink        140   166.9        -1.2492       -5.1577   \n",
       "3           0    1C69  pink        140   167.0         0.1113       -4.7377   \n",
       "4           0    1C69  pink        140   167.1         3.4719       -4.7238   \n",
       "\n",
       "    ired_0   ired_1   ired_2  ired_0_calibrated  ired_1_calibrated  \\\n",
       "0  25519.0  16525.0  25519.0             3.1597             2.8335   \n",
       "1  25391.0  16556.0  25391.0             3.1485             2.8370   \n",
       "2  24700.0  17082.0  24700.0             3.0884             2.8957   \n",
       "3  24459.0  17063.0  24459.0             3.0674             2.8935   \n",
       "4  25317.0  17553.0  25317.0             3.1421             2.9482   \n",
       "\n",
       "   ired_2_calibrated  zero_count  black  green  pink  red  white  \n",
       "0             3.1597           1      0      0     1    0      0  \n",
       "1             3.1485           1      0      0     1    0      0  \n",
       "2             3.0884           1      0      0     1    0      0  \n",
       "3             3.0674           1      0      0     1    0      0  \n",
       "4             3.1421           1      0      0     1    0      0  "
      ]
     },
     "execution_count": 551,
     "metadata": {},
     "output_type": "execute_result"
    }
   ],
   "source": [
    "dummy = pd.get_dummies(elvie['bra'])\n",
    "dummy.head()\n",
    "\n",
    "# Putting the dummy variable on right side of the main dataframe:\n",
    "df = pd.concat([elvie, dummy], axis = 1)\n",
    "df.head()"
   ]
  },
  {
   "cell_type": "markdown",
   "metadata": {},
   "source": [
    "### Scale the ired 0, 1 and 2 features:"
   ]
  },
  {
   "cell_type": "code",
   "execution_count": 552,
   "metadata": {},
   "outputs": [
    {
     "name": "stdout",
     "output_type": "stream",
     "text": [
      "[25519. 25391. 24700. ...  9415.  9417.  9419.]\n",
      "<class 'numpy.ndarray'>\n",
      "-1.2765168870308718\n",
      "7.36376052796247\n",
      "-1.3243600173553154\n",
      "6.062444695126574\n",
      "-1.2765168870308718\n",
      "7.36376052796247\n"
     ]
    }
   ],
   "source": [
    "from sklearn.preprocessing import StandardScaler\n",
    "\n",
    "ired0_c = np.array(df['ired_0'])\n",
    "ired1_c = np.array(df['ired_1'])\n",
    "ired2_c = np.array(df['ired_2'])\n",
    "pitch_c = np.array(df['pitch_degrees'])\n",
    "roll_c = np.array(df['roll_degrees'])\n",
    "\n",
    "scalar = StandardScaler()\n",
    "scaled_data_ired0 = scalar.fit_transform(ired0_c[:,None])\n",
    "scaled_data_ired1 = scalar.fit_transform(ired1_c[:,None])\n",
    "scaled_data_ired2 = scalar.fit_transform(ired2_c[:,None])\n",
    "scaled_pitch = scalar.fit_transform(pitch_c[:,None])\n",
    "scaled_roll = scalar.fit_transform(roll_c[:,None])\n",
    "\n",
    "\n",
    "print(ired0_c)\n",
    "#print(scaled_data_ired0)\n",
    "print(type(scaled_data_ired0))\n",
    "print(scaled_data_ired0.min())\n",
    "print(scaled_data_ired0.max())\n",
    "\n",
    "print(scaled_data_ired1.min())\n",
    "print(scaled_data_ired1.max())\n",
    "\n",
    "print(scaled_data_ired2.min())\n",
    "print(scaled_data_ired2.max())\n"
   ]
  },
  {
   "cell_type": "code",
   "execution_count": 553,
   "metadata": {},
   "outputs": [
    {
     "name": "stdout",
     "output_type": "stream",
     "text": [
      "   ired0_cal  ired1_cal  ired2_cal  pitch_cal  roll_cal\n",
      "0      2.203      1.638      2.203     -0.244    -0.077\n",
      "1      2.184      1.643      2.184     -0.201    -0.069\n",
      "2      2.085      1.741      2.085     -0.140    -0.082\n",
      "3      2.050      1.738      2.050     -0.095    -0.065\n",
      "4      2.174      1.829      2.174      0.016    -0.065\n"
     ]
    }
   ],
   "source": [
    "allired = np.concatenate([scaled_data_ired0, scaled_data_ired1, scaled_data_ired2, scaled_pitch, scaled_roll], axis=1)\n",
    "#allired = np.column_stack((data_ired0_cal, data_ired1_cal, data_ired2_cal))\n",
    "#print(allired)\n",
    "\n",
    "#allired_1 = np.around(allired, decimals=1)\n",
    "#print(allired_1)\n",
    "\n",
    "dataset = pd.DataFrame({'ired0_cal':allired[:,0],'ired1_cal':allired[:,1],'ired2_cal':allired[:,2],'pitch_cal':allired[:,3],'roll_cal':allired[:,4]})\n",
    "\n",
    "#Reduce cardinality of ired 0, 1 and 2:\n",
    "dataset = dataset.round(3)\n",
    "dataset = dataset.replace(-0.0, 0.0)\n",
    "#print(dataset['ired0_cal'].value_counts())\n",
    "print(dataset.head(5))\n",
    "#print(dataset['ired0_cal'].value_counts().size)"
   ]
  },
  {
   "cell_type": "markdown",
   "metadata": {},
   "source": [
    "### Create the dataframe with all scaled features:"
   ]
  },
  {
   "cell_type": "code",
   "execution_count": 554,
   "metadata": {},
   "outputs": [
    {
     "data": {
      "text/html": [
       "<div>\n",
       "<style scoped>\n",
       "    .dataframe tbody tr th:only-of-type {\n",
       "        vertical-align: middle;\n",
       "    }\n",
       "\n",
       "    .dataframe tbody tr th {\n",
       "        vertical-align: top;\n",
       "    }\n",
       "\n",
       "    .dataframe thead th {\n",
       "        text-align: right;\n",
       "    }\n",
       "</style>\n",
       "<table border=\"1\" class=\"dataframe\">\n",
       "  <thead>\n",
       "    <tr style=\"text-align: right;\">\n",
       "      <th></th>\n",
       "      <th>ired0_cal</th>\n",
       "      <th>ired1_cal</th>\n",
       "      <th>ired2_cal</th>\n",
       "      <th>pitch_cal</th>\n",
       "      <th>roll_cal</th>\n",
       "      <th>black</th>\n",
       "      <th>green</th>\n",
       "      <th>pink</th>\n",
       "      <th>red</th>\n",
       "      <th>white</th>\n",
       "      <th>zero_count</th>\n",
       "    </tr>\n",
       "  </thead>\n",
       "  <tbody>\n",
       "    <tr>\n",
       "      <th>0</th>\n",
       "      <td>2.203</td>\n",
       "      <td>1.638</td>\n",
       "      <td>2.203</td>\n",
       "      <td>-0.244</td>\n",
       "      <td>-0.077</td>\n",
       "      <td>0</td>\n",
       "      <td>0</td>\n",
       "      <td>1</td>\n",
       "      <td>0</td>\n",
       "      <td>0</td>\n",
       "      <td>1</td>\n",
       "    </tr>\n",
       "    <tr>\n",
       "      <th>1</th>\n",
       "      <td>2.184</td>\n",
       "      <td>1.643</td>\n",
       "      <td>2.184</td>\n",
       "      <td>-0.201</td>\n",
       "      <td>-0.069</td>\n",
       "      <td>0</td>\n",
       "      <td>0</td>\n",
       "      <td>1</td>\n",
       "      <td>0</td>\n",
       "      <td>0</td>\n",
       "      <td>1</td>\n",
       "    </tr>\n",
       "    <tr>\n",
       "      <th>2</th>\n",
       "      <td>2.085</td>\n",
       "      <td>1.741</td>\n",
       "      <td>2.085</td>\n",
       "      <td>-0.140</td>\n",
       "      <td>-0.082</td>\n",
       "      <td>0</td>\n",
       "      <td>0</td>\n",
       "      <td>1</td>\n",
       "      <td>0</td>\n",
       "      <td>0</td>\n",
       "      <td>1</td>\n",
       "    </tr>\n",
       "    <tr>\n",
       "      <th>3</th>\n",
       "      <td>2.050</td>\n",
       "      <td>1.738</td>\n",
       "      <td>2.050</td>\n",
       "      <td>-0.095</td>\n",
       "      <td>-0.065</td>\n",
       "      <td>0</td>\n",
       "      <td>0</td>\n",
       "      <td>1</td>\n",
       "      <td>0</td>\n",
       "      <td>0</td>\n",
       "      <td>1</td>\n",
       "    </tr>\n",
       "    <tr>\n",
       "      <th>4</th>\n",
       "      <td>2.174</td>\n",
       "      <td>1.829</td>\n",
       "      <td>2.174</td>\n",
       "      <td>0.016</td>\n",
       "      <td>-0.065</td>\n",
       "      <td>0</td>\n",
       "      <td>0</td>\n",
       "      <td>1</td>\n",
       "      <td>0</td>\n",
       "      <td>0</td>\n",
       "      <td>1</td>\n",
       "    </tr>\n",
       "  </tbody>\n",
       "</table>\n",
       "</div>"
      ],
      "text/plain": [
       "   ired0_cal  ired1_cal  ired2_cal  pitch_cal  roll_cal  black  green  pink  \\\n",
       "0      2.203      1.638      2.203     -0.244    -0.077      0      0     1   \n",
       "1      2.184      1.643      2.184     -0.201    -0.069      0      0     1   \n",
       "2      2.085      1.741      2.085     -0.140    -0.082      0      0     1   \n",
       "3      2.050      1.738      2.050     -0.095    -0.065      0      0     1   \n",
       "4      2.174      1.829      2.174      0.016    -0.065      0      0     1   \n",
       "\n",
       "   red  white  zero_count  \n",
       "0    0      0           1  \n",
       "1    0      0           1  \n",
       "2    0      0           1  \n",
       "3    0      0           1  \n",
       "4    0      0           1  "
      ]
     },
     "execution_count": 554,
     "metadata": {},
     "output_type": "execute_result"
    }
   ],
   "source": [
    "final_features = pd.concat([dataset, dummy, elvie['zero_count']], axis=1)\n",
    "\n",
    "final_features.head()"
   ]
  },
  {
   "cell_type": "markdown",
   "metadata": {},
   "source": [
    "## Oversampling using SMOTE:\n",
    "\n",
    "Here we use the SMOTE algorithm to over-sample the instances of \"no milk\", so that the number of \"no milk\" and \"some milk\" instances are the same"
   ]
  },
  {
   "cell_type": "code",
   "execution_count": 555,
   "metadata": {
    "scrolled": true
   },
   "outputs": [
    {
     "name": "stderr",
     "output_type": "stream",
     "text": [
      "/Users/Ganesh/anaconda2/envs/py36/lib/python3.6/site-packages/sklearn/utils/validation.py:761: DataConversionWarning: A column-vector y was passed when a 1d array was expected. Please change the shape of y to (n_samples, ), for example using ravel().\n",
      "  y = column_or_1d(y, warn=True)\n"
     ]
    },
    {
     "name": "stdout",
     "output_type": "stream",
     "text": [
      "length of oversampled data is  168584\n",
      "Number of 'no milk' instances in oversampled data 84292\n",
      "Number of 'some milk' instances 84292\n",
      "Proportion of 'no milk' instances in oversampled data is  0.5\n",
      "Proportion of some milk' instances in oversampled data is  0.5\n"
     ]
    }
   ],
   "source": [
    "X = final_features.loc[:, final_features.columns != 'zero_count'] \n",
    "y = final_features.loc[:, final_features.columns == 'zero_count'] #target feature\n",
    "\n",
    "from sklearn.model_selection import train_test_split\n",
    "\n",
    "import sys\n",
    "sys.path.append('/Users/Ganesh/anaconda3/lib/python3.7/site-packages/')\n",
    "\n",
    "from imblearn.over_sampling import SMOTE\n",
    "os = SMOTE(random_state=0)\n",
    "\n",
    "#Splitting the training and the testing sets\n",
    "X_train, X_test, y_train, y_test = train_test_split(X, y, test_size=0.3, random_state=0)\n",
    "columns = X_train.columns\n",
    "#print(columns)\n",
    "\n",
    "os_data_X, os_data_y=os.fit_sample(X_train, y_train) #oversampling the training data\n",
    "os_data_X = pd.DataFrame(data=os_data_X, columns=columns )\n",
    "\n",
    "\n",
    "os_data_y= pd.DataFrame(data=os_data_y,columns=['zero_count'])\n",
    "# we can Check the numbers of our data\n",
    "print(\"length of oversampled data is \",len(os_data_X))\n",
    "print(\"Number of 'no milk' instances in oversampled data\",len(os_data_y[os_data_y['zero_count']==0]))\n",
    "print(\"Number of 'some milk' instances\",len(os_data_y[os_data_y['zero_count']==1]))\n",
    "print(\"Proportion of 'no milk' instances in oversampled data is \",len(os_data_y[os_data_y['zero_count']==0])/len(os_data_X))\n",
    "print(\"Proportion of some milk' instances in oversampled data is \",len(os_data_y[os_data_y['zero_count']==1])/len(os_data_X))"
   ]
  },
  {
   "cell_type": "markdown",
   "metadata": {},
   "source": [
    "### Splitting the training and the testing sets:"
   ]
  },
  {
   "cell_type": "code",
   "execution_count": 556,
   "metadata": {},
   "outputs": [],
   "source": [
    "from sklearn.linear_model import LogisticRegression\n",
    "from sklearn import metrics\n",
    "\n",
    "X_train, X_test, y_train, y_test = train_test_split(os_data_X, os_data_y, test_size=0.3, random_state=0)\n"
   ]
  },
  {
   "cell_type": "markdown",
   "metadata": {},
   "source": [
    "### Fitting the model in logistic regression:"
   ]
  },
  {
   "cell_type": "code",
   "execution_count": 557,
   "metadata": {},
   "outputs": [
    {
     "name": "stderr",
     "output_type": "stream",
     "text": [
      "/Users/Ganesh/anaconda2/envs/py36/lib/python3.6/site-packages/sklearn/linear_model/logistic.py:433: FutureWarning: Default solver will be changed to 'lbfgs' in 0.22. Specify a solver to silence this warning.\n",
      "  FutureWarning)\n",
      "/Users/Ganesh/anaconda2/envs/py36/lib/python3.6/site-packages/sklearn/utils/validation.py:761: DataConversionWarning: A column-vector y was passed when a 1d array was expected. Please change the shape of y to (n_samples, ), for example using ravel().\n",
      "  y = column_or_1d(y, warn=True)\n"
     ]
    },
    {
     "data": {
      "text/plain": [
       "LogisticRegression(C=1.0, class_weight=None, dual=False, fit_intercept=True,\n",
       "          intercept_scaling=1, max_iter=100, multi_class='warn',\n",
       "          n_jobs=None, penalty='l2', random_state=None, solver='warn',\n",
       "          tol=0.0001, verbose=0, warm_start=False)"
      ]
     },
     "execution_count": 557,
     "metadata": {},
     "output_type": "execute_result"
    }
   ],
   "source": [
    "logreg = LogisticRegression()\n",
    "logreg.fit(X_train, y_train)"
   ]
  },
  {
   "cell_type": "markdown",
   "metadata": {},
   "source": [
    "### Prediction and accuracy:"
   ]
  },
  {
   "cell_type": "code",
   "execution_count": 558,
   "metadata": {},
   "outputs": [
    {
     "name": "stdout",
     "output_type": "stream",
     "text": [
      "Accuracy of logistic regression classifier on test set: 0.75\n"
     ]
    }
   ],
   "source": [
    "y_pred = logreg.predict(X_test)\n",
    "print('Accuracy of logistic regression classifier on test set: {:.2f}'.format(logreg.score(X_test, y_test)))\n"
   ]
  },
  {
   "cell_type": "markdown",
   "metadata": {},
   "source": [
    "### Confusion matrix:"
   ]
  },
  {
   "cell_type": "code",
   "execution_count": 559,
   "metadata": {},
   "outputs": [
    {
     "name": "stdout",
     "output_type": "stream",
     "text": [
      "[[23031  2220]\n",
      " [10676 14649]]\n"
     ]
    }
   ],
   "source": [
    "from sklearn.metrics import confusion_matrix\n",
    "\n",
    "confusion_matrix = confusion_matrix(y_test, y_pred)\n",
    "print(confusion_matrix)"
   ]
  },
  {
   "cell_type": "markdown",
   "metadata": {},
   "source": [
    "### Classification report:"
   ]
  },
  {
   "cell_type": "code",
   "execution_count": 560,
   "metadata": {},
   "outputs": [
    {
     "name": "stdout",
     "output_type": "stream",
     "text": [
      "              precision    recall  f1-score   support\n",
      "\n",
      "           0       0.68      0.91      0.78     25251\n",
      "           1       0.87      0.58      0.69     25325\n",
      "\n",
      "   micro avg       0.75      0.75      0.75     50576\n",
      "   macro avg       0.78      0.75      0.74     50576\n",
      "weighted avg       0.78      0.75      0.74     50576\n",
      "\n"
     ]
    }
   ],
   "source": [
    "from sklearn.metrics import classification_report\n",
    "print(classification_report(y_test, y_pred))"
   ]
  },
  {
   "cell_type": "markdown",
   "metadata": {},
   "source": [
    "### ROC curve:"
   ]
  },
  {
   "cell_type": "code",
   "execution_count": 561,
   "metadata": {},
   "outputs": [
    {
     "data": {
      "image/png": "[encoded data removed]",
      "text/plain": [
       "<Figure size 432x288 with 1 Axes>"
      ]
     },
     "metadata": {
      "needs_background": "light"
     },
     "output_type": "display_data"
    }
   ],
   "source": [
    "from sklearn.metrics import roc_auc_score\n",
    "from sklearn.metrics import roc_curve\n",
    "\n",
    "logit_roc_auc = roc_auc_score(y_test, logreg.predict(X_test))\n",
    "fpr, tpr, thresholds = roc_curve(y_test, logreg.predict_proba(X_test)[:,1])\n",
    "plt.figure()\n",
    "\n",
    "plt.plot(fpr, tpr, label='Logistic Regression (area = %0.2f)' % logit_roc_auc)\n",
    "plt.plot([0, 1], [0, 1],'r--')\n",
    "plt.xlim([0.0, 1.0])\n",
    "plt.ylim([0.0, 1.05])\n",
    "plt.xlabel('False Positive Rate')\n",
    "plt.ylabel('True Positive Rate')\n",
    "plt.title('Receiver operating characteristic')\n",
    "plt.legend(loc=\"lower right\")\n",
    "#plt.savefig('Log_ROC')\n",
    "plt.show()"
   ]
  },
  {
   "cell_type": "markdown",
   "metadata": {},
   "source": [
    "## Using Random Forest to build the classification model:\n",
    "\n",
    "### Maybe we can do better with a random forest classifier?"
   ]
  },
  {
   "cell_type": "code",
   "execution_count": 562,
   "metadata": {},
   "outputs": [
    {
     "name": "stderr",
     "output_type": "stream",
     "text": [
      "/Users/Ganesh/anaconda2/envs/py36/lib/python3.6/site-packages/sklearn/ensemble/forest.py:246: FutureWarning: The default value of n_estimators will change from 10 in version 0.20 to 100 in 0.22.\n",
      "  \"10 in version 0.20 to 100 in 0.22.\", FutureWarning)\n",
      "/Users/Ganesh/anaconda2/envs/py36/lib/python3.6/site-packages/ipykernel_launcher.py:5: DataConversionWarning: A column-vector y was passed when a 1d array was expected. Please change the shape of y to (n_samples,), for example using ravel().\n",
      "  \"\"\"\n"
     ]
    },
    {
     "name": "stdout",
     "output_type": "stream",
     "text": [
      "Train accuracy score: 0.9998220459629855\n",
      "Test accuracy score: 0.9979239164821259\n"
     ]
    }
   ],
   "source": [
    "from sklearn.ensemble import RandomForestClassifier as RFC\n",
    "from sklearn.metrics import accuracy_score\n",
    "\n",
    "rfc = RFC()\n",
    "rfc.fit(X_train,y_train)\n",
    "y_pred = rfc.predict(X_train)\n",
    "\n",
    "print('Train accuracy score:',accuracy_score(y_train,y_pred))\n",
    "print('Test accuracy score:', accuracy_score(y_test, rfc_b.predict(X_test)))"
   ]
  },
  {
   "cell_type": "markdown",
   "metadata": {},
   "source": [
    "### Random Forest beats Logistic Regression on train and test with an accuracy score of .99 on each."
   ]
  },
  {
   "cell_type": "code",
   "execution_count": 563,
   "metadata": {},
   "outputs": [
    {
     "data": {
      "text/plain": [
       "array([[0., 1.],\n",
       "       [0., 1.],\n",
       "       [1., 0.],\n",
       "       [1., 0.],\n",
       "       [0., 1.],\n",
       "       [1., 0.],\n",
       "       [0., 1.],\n",
       "       [1., 0.],\n",
       "       [1., 0.],\n",
       "       [0., 1.]])"
      ]
     },
     "execution_count": 563,
     "metadata": {},
     "output_type": "execute_result"
    }
   ],
   "source": [
    "# View the predicted probabilities of the first 10 observations\n",
    "rfc.predict_proba(X_train)[0:10]"
   ]
  },
  {
   "cell_type": "markdown",
   "metadata": {},
   "source": [
    "### Evaluate the classifier:\n",
    "\n",
    "We get a score telling us how important each feature was in classifying. This is one of the most powerful parts of random forests, because we can clearly see that ired1 was the most important in classification:"
   ]
  },
  {
   "cell_type": "code",
   "execution_count": 564,
   "metadata": {},
   "outputs": [
    {
     "data": {
      "text/plain": [
       "[('ired0_cal', 0.27449346999146557),\n",
       " ('ired1_cal', 0.2701590963870709),\n",
       " ('ired2_cal', 0.2643132988340001),\n",
       " ('pitch_cal', 0.021012063753164816),\n",
       " ('roll_cal', 0.014450348050783194),\n",
       " ('black', 0.06532978708540216),\n",
       " ('green', 0.02032754853840118),\n",
       " ('pink', 0.023465388950498472),\n",
       " ('red', 0.0364605302801523),\n",
       " ('white', 0.009988468129061212)]"
      ]
     },
     "execution_count": 564,
     "metadata": {},
     "output_type": "execute_result"
    }
   ],
   "source": [
    "# View a list of the features and their importance scores\n",
    "list(zip(X_train, rfc.feature_importances_))"
   ]
  },
  {
   "cell_type": "code",
   "execution_count": null,
   "metadata": {},
   "outputs": [],
   "source": []
  },
  {
   "cell_type": "code",
   "execution_count": null,
   "metadata": {},
   "outputs": [],
   "source": []
  },
  {
   "cell_type": "code",
   "execution_count": null,
   "metadata": {},
   "outputs": [],
   "source": []
  }
 ],
 "metadata": {
  "kernelspec": {
   "display_name": "Python 3",
   "language": "python",
   "name": "python3"
  },
  "language_info": {
   "codemirror_mode": {
    "name": "ipython",
    "version": 3
   },
   "file_extension": ".py",
   "mimetype": "text/x-python",
   "name": "python",
   "nbconvert_exporter": "python",
   "pygments_lexer": "ipython3",
   "version": "3.7.1"
  }
 },
 "nbformat": 4,
 "nbformat_minor": 2
}
